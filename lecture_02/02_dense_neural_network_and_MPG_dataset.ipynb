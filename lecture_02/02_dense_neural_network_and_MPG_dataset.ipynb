{
  "nbformat": 4,
  "nbformat_minor": 0,
  "metadata": {
    "colab": {
      "name": "02_dense_neural_network_and_MPG_dataset.ipynb",
      "provenance": [],
      "collapsed_sections": [],
      "authorship_tag": "ABX9TyNKQXd843OsDuSh3pArMksI",
      "include_colab_link": true
    },
    "kernelspec": {
      "name": "python3",
      "display_name": "Python 3"
    }
  },
  "cells": [
    {
      "cell_type": "markdown",
      "metadata": {
        "id": "view-in-github",
        "colab_type": "text"
      },
      "source": [
        "<a href=\"https://colab.research.google.com/github/simecek/dspracticum2020/blob/master/lecture_02/02_dense_neural_network_and_MPG_dataset.ipynb\" target=\"_parent\"><img src=\"https://colab.research.google.com/assets/colab-badge.svg\" alt=\"Open In Colab\"/></a>"
      ]
    },
    {
      "cell_type": "code",
      "metadata": {
        "id": "LT5sifRq0Ls1",
        "outputId": "5f71bf0d-3433-45a2-9327-71ba5be201be",
        "colab": {
          "base_uri": "https://localhost:8080/",
          "height": 34
        }
      },
      "source": [
        "import matplotlib.pyplot as plt\n",
        "import numpy as np\n",
        "import pandas as pd\n",
        "import seaborn as sns\n",
        "\n",
        "import tensorflow as tf\n",
        "from tensorflow import keras\n",
        "from tensorflow.keras import layers\n",
        "from tensorflow.keras.layers.experimental import preprocessing\n",
        "\n",
        "print(tf.__version__)"
      ],
      "execution_count": 1,
      "outputs": [
        {
          "output_type": "stream",
          "text": [
            "2.3.0\n"
          ],
          "name": "stdout"
        }
      ]
    },
    {
      "cell_type": "markdown",
      "metadata": {
        "id": "PdrvaJb71hdd"
      },
      "source": [
        "## Data"
      ]
    },
    {
      "cell_type": "code",
      "metadata": {
        "id": "qnpPTuRn1XXx",
        "outputId": "742f7b59-6f5e-42ff-a5f7-24c5d2e25abb",
        "colab": {
          "base_uri": "https://localhost:8080/",
          "height": 204
        }
      },
      "source": [
        "url = 'http://archive.ics.uci.edu/ml/machine-learning-databases/auto-mpg/auto-mpg.data'\n",
        "column_names = ['MPG', 'Cylinders', 'Displacement', 'Horsepower', 'Weight',\n",
        "                'Acceleration', 'Model Year', 'Origin']\n",
        "\n",
        "raw_dataset = pd.read_csv(url, names=column_names,\n",
        "                          na_values='?', comment='\\t',\n",
        "                          sep=' ', skipinitialspace=True)\n",
        "\n",
        "dataset = raw_dataset.copy()\n",
        "\n",
        "# because of missing values in the Horsepower column\n",
        "dataset = dataset.dropna()\n",
        "\n",
        "dataset.tail()"
      ],
      "execution_count": 2,
      "outputs": [
        {
          "output_type": "execute_result",
          "data": {
            "text/html": [
              "<div>\n",
              "<style scoped>\n",
              "    .dataframe tbody tr th:only-of-type {\n",
              "        vertical-align: middle;\n",
              "    }\n",
              "\n",
              "    .dataframe tbody tr th {\n",
              "        vertical-align: top;\n",
              "    }\n",
              "\n",
              "    .dataframe thead th {\n",
              "        text-align: right;\n",
              "    }\n",
              "</style>\n",
              "<table border=\"1\" class=\"dataframe\">\n",
              "  <thead>\n",
              "    <tr style=\"text-align: right;\">\n",
              "      <th></th>\n",
              "      <th>MPG</th>\n",
              "      <th>Cylinders</th>\n",
              "      <th>Displacement</th>\n",
              "      <th>Horsepower</th>\n",
              "      <th>Weight</th>\n",
              "      <th>Acceleration</th>\n",
              "      <th>Model Year</th>\n",
              "      <th>Origin</th>\n",
              "    </tr>\n",
              "  </thead>\n",
              "  <tbody>\n",
              "    <tr>\n",
              "      <th>393</th>\n",
              "      <td>27.0</td>\n",
              "      <td>4</td>\n",
              "      <td>140.0</td>\n",
              "      <td>86.0</td>\n",
              "      <td>2790.0</td>\n",
              "      <td>15.6</td>\n",
              "      <td>82</td>\n",
              "      <td>1</td>\n",
              "    </tr>\n",
              "    <tr>\n",
              "      <th>394</th>\n",
              "      <td>44.0</td>\n",
              "      <td>4</td>\n",
              "      <td>97.0</td>\n",
              "      <td>52.0</td>\n",
              "      <td>2130.0</td>\n",
              "      <td>24.6</td>\n",
              "      <td>82</td>\n",
              "      <td>2</td>\n",
              "    </tr>\n",
              "    <tr>\n",
              "      <th>395</th>\n",
              "      <td>32.0</td>\n",
              "      <td>4</td>\n",
              "      <td>135.0</td>\n",
              "      <td>84.0</td>\n",
              "      <td>2295.0</td>\n",
              "      <td>11.6</td>\n",
              "      <td>82</td>\n",
              "      <td>1</td>\n",
              "    </tr>\n",
              "    <tr>\n",
              "      <th>396</th>\n",
              "      <td>28.0</td>\n",
              "      <td>4</td>\n",
              "      <td>120.0</td>\n",
              "      <td>79.0</td>\n",
              "      <td>2625.0</td>\n",
              "      <td>18.6</td>\n",
              "      <td>82</td>\n",
              "      <td>1</td>\n",
              "    </tr>\n",
              "    <tr>\n",
              "      <th>397</th>\n",
              "      <td>31.0</td>\n",
              "      <td>4</td>\n",
              "      <td>119.0</td>\n",
              "      <td>82.0</td>\n",
              "      <td>2720.0</td>\n",
              "      <td>19.4</td>\n",
              "      <td>82</td>\n",
              "      <td>1</td>\n",
              "    </tr>\n",
              "  </tbody>\n",
              "</table>\n",
              "</div>"
            ],
            "text/plain": [
              "      MPG  Cylinders  Displacement  ...  Acceleration  Model Year  Origin\n",
              "393  27.0          4         140.0  ...          15.6          82       1\n",
              "394  44.0          4          97.0  ...          24.6          82       2\n",
              "395  32.0          4         135.0  ...          11.6          82       1\n",
              "396  28.0          4         120.0  ...          18.6          82       1\n",
              "397  31.0          4         119.0  ...          19.4          82       1\n",
              "\n",
              "[5 rows x 8 columns]"
            ]
          },
          "metadata": {
            "tags": []
          },
          "execution_count": 2
        }
      ]
    },
    {
      "cell_type": "code",
      "metadata": {
        "id": "2b96d06tKnh2",
        "outputId": "39453afa-3cd4-4f3a-e2c9-af0b2076379e",
        "colab": {
          "base_uri": "https://localhost:8080/",
          "height": 204
        }
      },
      "source": [
        "# one-hot encoding\n",
        "dataset['Origin'] = dataset['Origin'].map({1: 'USA', 2: 'Europe', 3: 'Japan'})\n",
        "dataset = pd.get_dummies(dataset, prefix='', prefix_sep='')\n",
        "\n",
        "dataset.tail()"
      ],
      "execution_count": 3,
      "outputs": [
        {
          "output_type": "execute_result",
          "data": {
            "text/html": [
              "<div>\n",
              "<style scoped>\n",
              "    .dataframe tbody tr th:only-of-type {\n",
              "        vertical-align: middle;\n",
              "    }\n",
              "\n",
              "    .dataframe tbody tr th {\n",
              "        vertical-align: top;\n",
              "    }\n",
              "\n",
              "    .dataframe thead th {\n",
              "        text-align: right;\n",
              "    }\n",
              "</style>\n",
              "<table border=\"1\" class=\"dataframe\">\n",
              "  <thead>\n",
              "    <tr style=\"text-align: right;\">\n",
              "      <th></th>\n",
              "      <th>MPG</th>\n",
              "      <th>Cylinders</th>\n",
              "      <th>Displacement</th>\n",
              "      <th>Horsepower</th>\n",
              "      <th>Weight</th>\n",
              "      <th>Acceleration</th>\n",
              "      <th>Model Year</th>\n",
              "      <th>Europe</th>\n",
              "      <th>Japan</th>\n",
              "      <th>USA</th>\n",
              "    </tr>\n",
              "  </thead>\n",
              "  <tbody>\n",
              "    <tr>\n",
              "      <th>393</th>\n",
              "      <td>27.0</td>\n",
              "      <td>4</td>\n",
              "      <td>140.0</td>\n",
              "      <td>86.0</td>\n",
              "      <td>2790.0</td>\n",
              "      <td>15.6</td>\n",
              "      <td>82</td>\n",
              "      <td>0</td>\n",
              "      <td>0</td>\n",
              "      <td>1</td>\n",
              "    </tr>\n",
              "    <tr>\n",
              "      <th>394</th>\n",
              "      <td>44.0</td>\n",
              "      <td>4</td>\n",
              "      <td>97.0</td>\n",
              "      <td>52.0</td>\n",
              "      <td>2130.0</td>\n",
              "      <td>24.6</td>\n",
              "      <td>82</td>\n",
              "      <td>1</td>\n",
              "      <td>0</td>\n",
              "      <td>0</td>\n",
              "    </tr>\n",
              "    <tr>\n",
              "      <th>395</th>\n",
              "      <td>32.0</td>\n",
              "      <td>4</td>\n",
              "      <td>135.0</td>\n",
              "      <td>84.0</td>\n",
              "      <td>2295.0</td>\n",
              "      <td>11.6</td>\n",
              "      <td>82</td>\n",
              "      <td>0</td>\n",
              "      <td>0</td>\n",
              "      <td>1</td>\n",
              "    </tr>\n",
              "    <tr>\n",
              "      <th>396</th>\n",
              "      <td>28.0</td>\n",
              "      <td>4</td>\n",
              "      <td>120.0</td>\n",
              "      <td>79.0</td>\n",
              "      <td>2625.0</td>\n",
              "      <td>18.6</td>\n",
              "      <td>82</td>\n",
              "      <td>0</td>\n",
              "      <td>0</td>\n",
              "      <td>1</td>\n",
              "    </tr>\n",
              "    <tr>\n",
              "      <th>397</th>\n",
              "      <td>31.0</td>\n",
              "      <td>4</td>\n",
              "      <td>119.0</td>\n",
              "      <td>82.0</td>\n",
              "      <td>2720.0</td>\n",
              "      <td>19.4</td>\n",
              "      <td>82</td>\n",
              "      <td>0</td>\n",
              "      <td>0</td>\n",
              "      <td>1</td>\n",
              "    </tr>\n",
              "  </tbody>\n",
              "</table>\n",
              "</div>"
            ],
            "text/plain": [
              "      MPG  Cylinders  Displacement  Horsepower  ...  Model Year  Europe  Japan  USA\n",
              "393  27.0          4         140.0        86.0  ...          82       0      0    1\n",
              "394  44.0          4          97.0        52.0  ...          82       1      0    0\n",
              "395  32.0          4         135.0        84.0  ...          82       0      0    1\n",
              "396  28.0          4         120.0        79.0  ...          82       0      0    1\n",
              "397  31.0          4         119.0        82.0  ...          82       0      0    1\n",
              "\n",
              "[5 rows x 10 columns]"
            ]
          },
          "metadata": {
            "tags": []
          },
          "execution_count": 3
        }
      ]
    },
    {
      "cell_type": "code",
      "metadata": {
        "id": "mePCThzZ5B1_",
        "outputId": "8c8ecba1-38c4-443e-97a8-3477adb4e986",
        "colab": {
          "base_uri": "https://localhost:8080/",
          "height": 34
        }
      },
      "source": [
        "# split the dataset into two parts (train & test)\n",
        "train_dataset = dataset.sample(frac=0.8, random_state=42)\n",
        "test_dataset = dataset.drop(train_dataset.index)\n",
        "\n",
        "train_dataset.shape, test_dataset.shape"
      ],
      "execution_count": 4,
      "outputs": [
        {
          "output_type": "execute_result",
          "data": {
            "text/plain": [
              "((314, 10), (78, 10))"
            ]
          },
          "metadata": {
            "tags": []
          },
          "execution_count": 4
        }
      ]
    },
    {
      "cell_type": "code",
      "metadata": {
        "id": "ZVedC4YQ5mTI",
        "outputId": "27e6e38b-cb7f-4e8f-d76c-7323e1a730e5",
        "colab": {
          "base_uri": "https://localhost:8080/",
          "height": 34
        }
      },
      "source": [
        "# separate label column from the data\n",
        "train_features = train_dataset.copy()\n",
        "test_features = test_dataset.copy()\n",
        "\n",
        "train_labels = train_features.pop('MPG')\n",
        "test_labels = test_features.pop('MPG')\n",
        "\n",
        "train_features.shape, test_features.shape, train_labels.shape, test_labels.shape"
      ],
      "execution_count": 5,
      "outputs": [
        {
          "output_type": "execute_result",
          "data": {
            "text/plain": [
              "((314, 9), (78, 9), (314,), (78,))"
            ]
          },
          "metadata": {
            "tags": []
          },
          "execution_count": 5
        }
      ]
    },
    {
      "cell_type": "markdown",
      "metadata": {
        "id": "D3MxoHdsH2QD"
      },
      "source": [
        "## Predict MPG (miles per gallon) from Other Features using DNN"
      ]
    },
    {
      "cell_type": "code",
      "metadata": {
        "id": "QdvQQDu8IH28"
      },
      "source": [
        "# normalizer for all feature columns\n",
        "normalizer = preprocessing.Normalization()\n",
        "normalizer.adapt(np.array(train_features))"
      ],
      "execution_count": 13,
      "outputs": []
    },
    {
      "cell_type": "code",
      "metadata": {
        "id": "L0f2YrelISsZ"
      },
      "source": [
        "# model definition\n",
        "dnn_horsepower_model = keras.Sequential([\n",
        "      normalizer,\n",
        "      layers.Dense(64, activation='relu'),\n",
        "      layers.Dense(64, activation='relu'),\n",
        "      layers.Dense(1)\n",
        "])\n",
        "\n",
        "dnn_horsepower_model.compile(loss='mean_absolute_error', optimizer=tf.keras.optimizers.Adam(0.001))"
      ],
      "execution_count": 19,
      "outputs": []
    },
    {
      "cell_type": "code",
      "metadata": {
        "id": "4SUl2bwqI7iC",
        "outputId": "f1046c82-a507-49c5-9a96-8c4126eaa43b",
        "colab": {
          "base_uri": "https://localhost:8080/",
          "height": 289
        }
      },
      "source": [
        "dnn_horsepower_model.summary()"
      ],
      "execution_count": 20,
      "outputs": [
        {
          "output_type": "stream",
          "text": [
            "Model: \"sequential_2\"\n",
            "_________________________________________________________________\n",
            "Layer (type)                 Output Shape              Param #   \n",
            "=================================================================\n",
            "normalization_1 (Normalizati (None, 9)                 19        \n",
            "_________________________________________________________________\n",
            "dense_6 (Dense)              (None, 64)                640       \n",
            "_________________________________________________________________\n",
            "dense_7 (Dense)              (None, 64)                4160      \n",
            "_________________________________________________________________\n",
            "dense_8 (Dense)              (None, 1)                 65        \n",
            "=================================================================\n",
            "Total params: 4,884\n",
            "Trainable params: 4,865\n",
            "Non-trainable params: 19\n",
            "_________________________________________________________________\n"
          ],
          "name": "stdout"
        }
      ]
    },
    {
      "cell_type": "code",
      "metadata": {
        "id": "rlQUhCyBJMck",
        "outputId": "eeb6abf4-a464-4aa0-ceba-9754ccf936ff",
        "colab": {
          "base_uri": "https://localhost:8080/",
          "height": 1000
        }
      },
      "source": [
        "%%time\n",
        "%%time\n",
        "history = dnn_horsepower_model.fit(\n",
        "    train_features['Horsepower'], train_labels,\n",
        "    validation_split=0.2,\n",
        "    epochs=100)"
      ],
      "execution_count": 21,
      "outputs": [
        {
          "output_type": "stream",
          "text": [
            "Epoch 1/100\n",
            "8/8 [==============================] - 0s 11ms/step - loss: 15.5900 - val_loss: 12.9376\n",
            "Epoch 2/100\n",
            "8/8 [==============================] - 0s 2ms/step - loss: 13.2084 - val_loss: 12.6452\n",
            "Epoch 3/100\n",
            "8/8 [==============================] - 0s 2ms/step - loss: 12.6924 - val_loss: 12.3968\n",
            "Epoch 4/100\n",
            "8/8 [==============================] - 0s 2ms/step - loss: 12.3719 - val_loss: 12.0035\n",
            "Epoch 5/100\n",
            "8/8 [==============================] - 0s 2ms/step - loss: 12.0248 - val_loss: 11.8248\n",
            "Epoch 6/100\n",
            "8/8 [==============================] - 0s 2ms/step - loss: 11.6187 - val_loss: 11.2347\n",
            "Epoch 7/100\n",
            "8/8 [==============================] - 0s 2ms/step - loss: 11.3184 - val_loss: 10.8366\n",
            "Epoch 8/100\n",
            "8/8 [==============================] - 0s 2ms/step - loss: 11.0099 - val_loss: 10.4279\n",
            "Epoch 9/100\n",
            "8/8 [==============================] - 0s 2ms/step - loss: 10.8246 - val_loss: 12.3120\n",
            "Epoch 10/100\n",
            "8/8 [==============================] - 0s 2ms/step - loss: 11.0883 - val_loss: 9.5905\n",
            "Epoch 11/100\n",
            "8/8 [==============================] - 0s 2ms/step - loss: 9.8302 - val_loss: 9.3086\n",
            "Epoch 12/100\n",
            "8/8 [==============================] - 0s 2ms/step - loss: 10.1321 - val_loss: 8.9982\n",
            "Epoch 13/100\n",
            "8/8 [==============================] - 0s 2ms/step - loss: 9.2322 - val_loss: 10.6792\n",
            "Epoch 14/100\n",
            "8/8 [==============================] - 0s 2ms/step - loss: 9.1942 - val_loss: 7.8407\n",
            "Epoch 15/100\n",
            "8/8 [==============================] - 0s 2ms/step - loss: 7.8889 - val_loss: 8.4412\n",
            "Epoch 16/100\n",
            "8/8 [==============================] - 0s 2ms/step - loss: 7.8048 - val_loss: 7.3814\n",
            "Epoch 17/100\n",
            "8/8 [==============================] - 0s 2ms/step - loss: 7.0489 - val_loss: 6.3172\n",
            "Epoch 18/100\n",
            "8/8 [==============================] - 0s 2ms/step - loss: 7.0829 - val_loss: 6.0449\n",
            "Epoch 19/100\n",
            "8/8 [==============================] - 0s 2ms/step - loss: 7.6714 - val_loss: 8.0012\n",
            "Epoch 20/100\n",
            "8/8 [==============================] - 0s 2ms/step - loss: 6.9705 - val_loss: 6.0181\n",
            "Epoch 21/100\n",
            "8/8 [==============================] - 0s 3ms/step - loss: 5.6655 - val_loss: 4.7558\n",
            "Epoch 22/100\n",
            "8/8 [==============================] - 0s 2ms/step - loss: 4.8723 - val_loss: 4.4165\n",
            "Epoch 23/100\n",
            "8/8 [==============================] - 0s 2ms/step - loss: 4.6167 - val_loss: 4.3259\n",
            "Epoch 24/100\n",
            "8/8 [==============================] - 0s 2ms/step - loss: 4.4507 - val_loss: 4.3186\n",
            "Epoch 25/100\n",
            "8/8 [==============================] - 0s 2ms/step - loss: 4.3885 - val_loss: 3.6589\n",
            "Epoch 26/100\n",
            "8/8 [==============================] - 0s 2ms/step - loss: 4.1175 - val_loss: 4.1693\n",
            "Epoch 27/100\n",
            "8/8 [==============================] - 0s 2ms/step - loss: 4.2292 - val_loss: 3.3477\n",
            "Epoch 28/100\n",
            "8/8 [==============================] - 0s 2ms/step - loss: 4.0350 - val_loss: 3.6786\n",
            "Epoch 29/100\n",
            "8/8 [==============================] - 0s 2ms/step - loss: 3.7164 - val_loss: 3.1141\n",
            "Epoch 30/100\n",
            "8/8 [==============================] - 0s 3ms/step - loss: 3.8572 - val_loss: 3.1728\n",
            "Epoch 31/100\n",
            "8/8 [==============================] - 0s 2ms/step - loss: 3.7809 - val_loss: 3.2531\n",
            "Epoch 32/100\n",
            "8/8 [==============================] - 0s 2ms/step - loss: 3.5693 - val_loss: 3.0952\n",
            "Epoch 33/100\n",
            "8/8 [==============================] - 0s 2ms/step - loss: 3.5774 - val_loss: 2.9922\n",
            "Epoch 34/100\n",
            "8/8 [==============================] - 0s 2ms/step - loss: 3.5466 - val_loss: 3.3786\n",
            "Epoch 35/100\n",
            "8/8 [==============================] - 0s 2ms/step - loss: 4.2239 - val_loss: 5.2944\n",
            "Epoch 36/100\n",
            "8/8 [==============================] - 0s 2ms/step - loss: 4.1502 - val_loss: 3.3544\n",
            "Epoch 37/100\n",
            "8/8 [==============================] - 0s 2ms/step - loss: 3.6893 - val_loss: 3.2286\n",
            "Epoch 38/100\n",
            "8/8 [==============================] - 0s 2ms/step - loss: 3.4667 - val_loss: 3.0568\n",
            "Epoch 39/100\n",
            "8/8 [==============================] - 0s 2ms/step - loss: 3.6178 - val_loss: 3.0205\n",
            "Epoch 40/100\n",
            "8/8 [==============================] - 0s 2ms/step - loss: 3.5055 - val_loss: 4.0794\n",
            "Epoch 41/100\n",
            "8/8 [==============================] - 0s 2ms/step - loss: 3.6969 - val_loss: 4.5860\n",
            "Epoch 42/100\n",
            "8/8 [==============================] - 0s 2ms/step - loss: 3.9476 - val_loss: 3.5791\n",
            "Epoch 43/100\n",
            "8/8 [==============================] - 0s 2ms/step - loss: 3.5552 - val_loss: 3.0800\n",
            "Epoch 44/100\n",
            "8/8 [==============================] - 0s 2ms/step - loss: 3.8889 - val_loss: 3.0368\n",
            "Epoch 45/100\n",
            "8/8 [==============================] - 0s 2ms/step - loss: 3.8922 - val_loss: 4.2516\n",
            "Epoch 46/100\n",
            "8/8 [==============================] - 0s 2ms/step - loss: 4.0086 - val_loss: 5.7186\n",
            "Epoch 47/100\n",
            "8/8 [==============================] - 0s 2ms/step - loss: 4.4659 - val_loss: 4.2894\n",
            "Epoch 48/100\n",
            "8/8 [==============================] - 0s 2ms/step - loss: 4.3056 - val_loss: 4.1640\n",
            "Epoch 49/100\n",
            "8/8 [==============================] - 0s 2ms/step - loss: 3.9847 - val_loss: 2.9575\n",
            "Epoch 50/100\n",
            "8/8 [==============================] - 0s 2ms/step - loss: 3.7642 - val_loss: 3.3506\n",
            "Epoch 51/100\n",
            "8/8 [==============================] - 0s 2ms/step - loss: 3.7363 - val_loss: 2.9140\n",
            "Epoch 52/100\n",
            "8/8 [==============================] - 0s 2ms/step - loss: 3.7441 - val_loss: 2.8533\n",
            "Epoch 53/100\n",
            "8/8 [==============================] - 0s 2ms/step - loss: 3.4127 - val_loss: 2.8912\n",
            "Epoch 54/100\n",
            "8/8 [==============================] - 0s 2ms/step - loss: 3.4596 - val_loss: 2.9376\n",
            "Epoch 55/100\n",
            "8/8 [==============================] - 0s 2ms/step - loss: 3.3777 - val_loss: 3.0300\n",
            "Epoch 56/100\n",
            "8/8 [==============================] - 0s 2ms/step - loss: 3.8510 - val_loss: 3.1781\n",
            "Epoch 57/100\n",
            "8/8 [==============================] - 0s 2ms/step - loss: 3.4856 - val_loss: 3.0533\n",
            "Epoch 58/100\n",
            "8/8 [==============================] - 0s 3ms/step - loss: 3.5812 - val_loss: 4.4058\n",
            "Epoch 59/100\n",
            "8/8 [==============================] - 0s 3ms/step - loss: 3.8539 - val_loss: 3.0181\n",
            "Epoch 60/100\n",
            "8/8 [==============================] - 0s 3ms/step - loss: 3.4645 - val_loss: 3.1470\n",
            "Epoch 61/100\n",
            "8/8 [==============================] - 0s 3ms/step - loss: 3.3499 - val_loss: 3.4670\n",
            "Epoch 62/100\n",
            "8/8 [==============================] - 0s 2ms/step - loss: 3.6670 - val_loss: 2.8223\n",
            "Epoch 63/100\n",
            "8/8 [==============================] - 0s 2ms/step - loss: 3.3689 - val_loss: 3.0534\n",
            "Epoch 64/100\n",
            "8/8 [==============================] - 0s 3ms/step - loss: 3.4606 - val_loss: 2.8980\n",
            "Epoch 65/100\n",
            "8/8 [==============================] - 0s 2ms/step - loss: 3.4075 - val_loss: 3.1061\n",
            "Epoch 66/100\n",
            "8/8 [==============================] - 0s 2ms/step - loss: 3.5214 - val_loss: 3.1162\n",
            "Epoch 67/100\n",
            "8/8 [==============================] - 0s 2ms/step - loss: 3.4754 - val_loss: 2.8823\n",
            "Epoch 68/100\n",
            "8/8 [==============================] - 0s 2ms/step - loss: 3.5891 - val_loss: 3.5802\n",
            "Epoch 69/100\n",
            "8/8 [==============================] - 0s 2ms/step - loss: 3.8289 - val_loss: 3.3253\n",
            "Epoch 70/100\n",
            "8/8 [==============================] - 0s 2ms/step - loss: 3.5178 - val_loss: 2.9504\n",
            "Epoch 71/100\n",
            "8/8 [==============================] - 0s 2ms/step - loss: 3.4675 - val_loss: 3.1992\n",
            "Epoch 72/100\n",
            "8/8 [==============================] - 0s 2ms/step - loss: 3.6399 - val_loss: 3.0411\n",
            "Epoch 73/100\n",
            "8/8 [==============================] - 0s 2ms/step - loss: 4.0194 - val_loss: 4.8185\n",
            "Epoch 74/100\n",
            "8/8 [==============================] - 0s 3ms/step - loss: 4.3972 - val_loss: 3.7904\n",
            "Epoch 75/100\n",
            "8/8 [==============================] - 0s 2ms/step - loss: 3.7534 - val_loss: 2.9610\n",
            "Epoch 76/100\n",
            "8/8 [==============================] - 0s 3ms/step - loss: 3.8728 - val_loss: 3.8398\n",
            "Epoch 77/100\n",
            "8/8 [==============================] - 0s 2ms/step - loss: 3.6929 - val_loss: 3.2853\n",
            "Epoch 78/100\n",
            "8/8 [==============================] - 0s 2ms/step - loss: 3.4542 - val_loss: 3.3614\n",
            "Epoch 79/100\n",
            "8/8 [==============================] - 0s 3ms/step - loss: 3.4270 - val_loss: 2.9157\n",
            "Epoch 80/100\n",
            "8/8 [==============================] - 0s 3ms/step - loss: 3.5102 - val_loss: 2.9208\n",
            "Epoch 81/100\n",
            "8/8 [==============================] - 0s 2ms/step - loss: 3.4230 - val_loss: 3.4714\n",
            "Epoch 82/100\n",
            "8/8 [==============================] - 0s 2ms/step - loss: 3.6987 - val_loss: 2.9814\n",
            "Epoch 83/100\n",
            "8/8 [==============================] - 0s 2ms/step - loss: 3.4674 - val_loss: 3.2213\n",
            "Epoch 84/100\n",
            "8/8 [==============================] - 0s 2ms/step - loss: 3.4433 - val_loss: 2.8195\n",
            "Epoch 85/100\n",
            "8/8 [==============================] - 0s 3ms/step - loss: 3.3474 - val_loss: 2.8215\n",
            "Epoch 86/100\n",
            "8/8 [==============================] - 0s 2ms/step - loss: 3.4526 - val_loss: 3.1338\n",
            "Epoch 87/100\n",
            "8/8 [==============================] - 0s 2ms/step - loss: 3.5705 - val_loss: 3.0120\n",
            "Epoch 88/100\n",
            "8/8 [==============================] - 0s 2ms/step - loss: 3.4867 - val_loss: 2.8179\n",
            "Epoch 89/100\n",
            "8/8 [==============================] - 0s 2ms/step - loss: 3.4154 - val_loss: 2.9054\n",
            "Epoch 90/100\n",
            "8/8 [==============================] - 0s 2ms/step - loss: 3.4737 - val_loss: 3.0325\n",
            "Epoch 91/100\n",
            "8/8 [==============================] - 0s 2ms/step - loss: 3.5754 - val_loss: 3.4096\n",
            "Epoch 92/100\n",
            "8/8 [==============================] - 0s 2ms/step - loss: 3.5337 - val_loss: 2.9021\n",
            "Epoch 93/100\n",
            "8/8 [==============================] - 0s 3ms/step - loss: 3.6434 - val_loss: 3.3667\n",
            "Epoch 94/100\n",
            "8/8 [==============================] - 0s 3ms/step - loss: 3.5089 - val_loss: 3.9169\n",
            "Epoch 95/100\n",
            "8/8 [==============================] - 0s 2ms/step - loss: 4.0474 - val_loss: 3.6240\n",
            "Epoch 96/100\n",
            "8/8 [==============================] - 0s 3ms/step - loss: 3.6682 - val_loss: 2.8281\n",
            "Epoch 97/100\n",
            "8/8 [==============================] - 0s 2ms/step - loss: 3.6031 - val_loss: 3.3906\n",
            "Epoch 98/100\n",
            "8/8 [==============================] - 0s 3ms/step - loss: 3.7060 - val_loss: 3.2994\n",
            "Epoch 99/100\n",
            "8/8 [==============================] - 0s 2ms/step - loss: 3.4974 - val_loss: 3.6516\n",
            "Epoch 100/100\n",
            "8/8 [==============================] - 0s 2ms/step - loss: 3.5072 - val_loss: 2.9246\n",
            "CPU times: user 2.46 s, sys: 189 ms, total: 2.65 s\n",
            "Wall time: 2.65 s\n",
            "CPU times: user 2.46 s, sys: 190 ms, total: 2.65 s\n",
            "Wall time: 2.65 s\n"
          ],
          "name": "stdout"
        }
      ]
    },
    {
      "cell_type": "code",
      "metadata": {
        "id": "jioPpNJ7JTaV",
        "outputId": "21471cd1-4bbd-404b-b8df-a05e45b6e104",
        "colab": {
          "base_uri": "https://localhost:8080/",
          "height": 283
        }
      },
      "source": [
        "def plot_loss(history):\n",
        "  plt.plot(history.history['loss'], label='loss')\n",
        "  plt.plot(history.history['val_loss'], label='val_loss')\n",
        "  plt.ylim([0, 10])\n",
        "  plt.xlabel('Epoch')\n",
        "  plt.ylabel('Error [MPG]')\n",
        "  plt.legend()\n",
        "  plt.grid(True)\n",
        "\n",
        "plot_loss(history)"
      ],
      "execution_count": 22,
      "outputs": [
        {
          "output_type": "display_data",
          "data": {
            "image/png": "[encoded data removed]",
            "text/plain": [
              "<Figure size 432x288 with 1 Axes>"
            ]
          },
          "metadata": {
            "tags": [],
            "needs_background": "light"
          }
        }
      ]
    },
    {
      "cell_type": "code",
      "metadata": {
        "id": "2S9kCZcYMRw8",
        "outputId": "3c4c7f85-945c-4049-9540-3e173d3c8408",
        "colab": {
          "base_uri": "https://localhost:8080/",
          "height": 279
        }
      },
      "source": [
        "x = tf.linspace(45, 250, 251)\n",
        "y = dnn_horsepower_model.predict(x)\n",
        "\n",
        "def plot_horsepower(x, y):\n",
        "  plt.scatter(train_features['Horsepower'], train_labels, label='Data')\n",
        "  plt.plot(x, y, color='k', label='Predictions')\n",
        "  plt.xlabel('Horsepower')\n",
        "  plt.ylabel('MPG')\n",
        "  plt.legend()\n",
        "\n",
        "plot_horsepower(x, y)"
      ],
      "execution_count": 24,
      "outputs": [
        {
          "output_type": "display_data",
          "data": {
            "image/png": "[encoded data removed]",
            "text/plain": [
              "<Figure size 432x288 with 1 Axes>"
            ]
          },
          "metadata": {
            "tags": [],
            "needs_background": "light"
          }
        }
      ]
    }
  ]
}