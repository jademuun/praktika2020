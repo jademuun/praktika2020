{
  "nbformat": 4,
  "nbformat_minor": 0,
  "metadata": {
    "colab": {
      "name": "Image_Downloader",
      "provenance": [],
      "authorship_tag": "ABX9TyP0LiKKABZOmL3i5DLS1d28",
      "include_colab_link": true
    },
    "kernelspec": {
      "name": "python3",
      "display_name": "Python 3"
    }
  },
  "cells": [
    {
      "cell_type": "markdown",
      "metadata": {
        "id": "view-in-github",
        "colab_type": "text"
      },
      "source": [
        "<a href=\"https://colab.research.google.com/github/simecek/dspracticum2020/blob/master/lecture_05/Image_Downloader.ipynb\" target=\"_parent\"><img src=\"https://colab.research.google.com/assets/colab-badge.svg\" alt=\"Open In Colab\"/></a>"
      ]
    },
    {
      "cell_type": "markdown",
      "metadata": {
        "id": "JEkiqKMJ3IQ4"
      },
      "source": [
        "# Image Downloader\n",
        "\n",
        "This is a script to download a set of images using Bing Search API.\n",
        "\n",
        "It is highly inspired by [Fastbook](https://github.com/fastai/fastbook/blob/master/02_production.ipynb) but adjusted to Azure changes after October 30. "
      ]
    },
    {
      "cell_type": "code",
      "metadata": {
        "id": "cu8G5g2nsJsd"
      },
      "source": [
        "import requests\n",
        "import yaml\n",
        "from pathlib import Path\n",
        "from fastai.vision.utils import download_images, verify_images, get_image_files"
      ],
      "execution_count": 1,
      "outputs": []
    },
    {
      "cell_type": "markdown",
      "metadata": {
        "id": "W9SU99i94Ezj"
      },
      "source": [
        "To run this script, you need Azure Bing Search API secret key. You can try it for free for 7 days. Change the following cell to\n",
        "\n",
        "```subscription_key = 'YOUR KEY'```\n",
        "\n",
        "I am reading mine from a file with secrets on my Google Drive."
      ]
    },
    {
      "cell_type": "code",
      "metadata": {
        "id": "2UYDpNLPxhNU",
        "outputId": "aac20341-b8ba-42aa-ac3e-45cfd6debb00",
        "colab": {
          "base_uri": "https://localhost:8080/"
        }
      },
      "source": [
        "# mounts Google Drive\n",
        "from google.colab import drive\n",
        "drive.mount('/gdrive')\n",
        "\n",
        "with open(r'/gdrive/My Drive/ds_praktikum/SECRETS.yaml') as file:\n",
        "    secrets = yaml.safe_load(file)\n",
        "subscription_key = secrets['bing_search_key']"
      ],
      "execution_count": 2,
      "outputs": [
        {
          "output_type": "stream",
          "text": [
            "Drive already mounted at /gdrive; to attempt to forcibly remount, call drive.mount(\"/gdrive\", force_remount=True).\n"
          ],
          "name": "stdout"
        }
      ]
    },
    {
      "cell_type": "code",
      "metadata": {
        "id": "MdGuG6jmpyuz"
      },
      "source": [
        "# based on fastai forum discussion on Nov 3, 2020\n",
        "# be careful, on Free Tier you can do max 3 queries per second\n",
        "# maximum for `count` parameter is 20, otherwise offset must be used \n",
        "def bing_image_search(search_term, count=150, offset=0):\n",
        "    search_url = \"https://api.bing.microsoft.com/v7.0/images/search\"\n",
        "    headers = {\"Ocp-Apim-Subscription-Key\" : subscription_key}\n",
        "\n",
        "    params = {\"q\": search_term, \n",
        "              \"license\": \"public\", \n",
        "              \"imageType\": \"photo\", \n",
        "              \"count\": str(count),\n",
        "              \"offset\": str(offset)}\n",
        "\n",
        "    response = requests.get(search_url, headers=headers, params=params)\n",
        "    response.raise_for_status()\n",
        "    search_results = response.json()\n",
        "\n",
        "    return [img['contentUrl'] for img in search_results[\"value\"]]"
      ],
      "execution_count": 3,
      "outputs": []
    },
    {
      "cell_type": "code",
      "metadata": {
        "id": "dZiCWtLIqJMI",
        "outputId": "84a6eab2-1e04-45c7-8eae-0dc150715dae",
        "colab": {
          "base_uri": "https://localhost:8080/"
        }
      },
      "source": [
        "search_term = 'tree'\n",
        "img_urls = bing_image_search(search_term, 150, 0) +  bing_image_search(search_term, 150, 150)\n",
        "print(len(img_urls))\n",
        "img_urls[:10]"
      ],
      "execution_count": 8,
      "outputs": [
        {
          "output_type": "stream",
          "text": [
            "300\n"
          ],
          "name": "stdout"
        },
        {
          "output_type": "execute_result",
          "data": {
            "text/plain": [
              "['https://images.pexels.com/photos/1067333/pexels-photo-1067333.jpeg?cs=srgb&dl=photography-of-tree-1067333.jpg&fm=jpg',\n",
              " 'https://get.pxhere.com/photo/tree-nature-grass-branch-plant-wood-leaf-flower-trunk-green-autumn-soil-botany-garden-flora-tree-trunk-art-roots-woodland-strong-tree-roots-tree-with-roots-woody-plant-land-plant-arecales-617647.jpg',\n",
              " 'https://c.pxhere.com/photos/11/5d/tree_trees_branch_branches_park_relaxation_season_spring-1023172.jpg!d',\n",
              " 'http://www.publicdomainpictures.net/pictures/100000/velka/hilltop-oak-tree.jpg',\n",
              " 'https://get.pxhere.com/photo/tree-plant-woody-plant-grass-trunk-branch-botany-lawn-garden-park-plantation-landscape-moss-shrub-oak-landscaping-botanical-garden-California-live-oak-1554447.jpg',\n",
              " 'https://publicdomainpictures.net/pictures/60000/velka/eucalyptus-tree-trunk.jpg',\n",
              " 'https://get.pxhere.com/photo/tree-forest-branch-plant-wood-flower-trunk-overgrown-bark-log-produce-soil-botany-flora-root-tribe-deciduous-gnarled-woodland-tree-stump-tree-root-ecosystem-old-tree-flowering-plant-old-growth-forest-woody-plant-land-plant-572989.jpg',\n",
              " 'http://www.publicdomainpictures.net/pictures/30000/velka/tree-1332664495LMO.jpg',\n",
              " 'https://pixnio.com/free-images/2017/09/14/2017-09-14-06-15-54.jpg',\n",
              " 'https://pixnio.com/free-images/flora-plants/trees/old-big-tree-with-big-roots.jpg']"
            ]
          },
          "metadata": {
            "tags": []
          },
          "execution_count": 8
        }
      ]
    },
    {
      "cell_type": "code",
      "metadata": {
        "id": "SsLNnNg_1X--",
        "outputId": "bfb8295f-0962-4f67-811c-3c303ef6434e",
        "colab": {
          "base_uri": "https://localhost:8080/",
          "height": 17
        }
      },
      "source": [
        "dest = Path('/gdrive/My Drive/ds_praktikum/data/image_data/'+search_term)\n",
        "dest.mkdir(exist_ok=True)\n",
        "download_images(dest, urls=img_urls)"
      ],
      "execution_count": 9,
      "outputs": [
        {
          "output_type": "display_data",
          "data": {
            "text/html": [
              ""
            ],
            "text/plain": [
              "<IPython.core.display.HTML object>"
            ]
          },
          "metadata": {
            "tags": []
          }
        }
      ]
    },
    {
      "cell_type": "code",
      "metadata": {
        "id": "vKdjgM3SwtOp",
        "outputId": "c2a79799-5eb7-4e67-884a-3fc402432dd0",
        "colab": {
          "base_uri": "https://localhost:8080/",
          "height": 35
        }
      },
      "source": [
        "img_paths = get_image_files(dest)\n",
        "failed = verify_images(img_paths)\n",
        "failed"
      ],
      "execution_count": 10,
      "outputs": [
        {
          "output_type": "display_data",
          "data": {
            "text/html": [
              ""
            ],
            "text/plain": [
              "<IPython.core.display.HTML object>"
            ]
          },
          "metadata": {
            "tags": []
          }
        },
        {
          "output_type": "execute_result",
          "data": {
            "text/plain": [
              "(#1) [Path('/gdrive/My Drive/ds_praktikum/data/image_data/tree/00000217.png')]"
            ]
          },
          "metadata": {
            "tags": []
          },
          "execution_count": 10
        }
      ]
    },
    {
      "cell_type": "code",
      "metadata": {
        "id": "WgpG6KSN04Y-"
      },
      "source": [
        "# delete failed images\n",
        "failed.map(Path.unlink);"
      ],
      "execution_count": 11,
      "outputs": []
    }
  ]
}